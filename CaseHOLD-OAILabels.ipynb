{
 "cells": [
  {
   "cell_type": "markdown",
   "id": "5a42f64e-0164-4028-b522-bf53114cfbf8",
   "metadata": {},
   "source": [
    "### CaseHOLD labeling\n",
    "\n",
    "In this notebook, we run a labeling procedure on the test set of the CaseHOLD dataset. The dataset uses a \"citing prompt\", and contains five multiple choice answer options. We ask the LLM to read over the prompt and options, then select the best one.\n",
    "\n",
    "We test three different LLMs from OpenAI. We record the responses for each model for further analysis elsewhere."
   ]
  },
  {
   "cell_type": "code",
   "execution_count": null,
   "id": "58f474bd-1883-4f92-bbbb-0be96c39144a",
   "metadata": {},
   "outputs": [],
   "source": [
    "import pandas as pd\n",
    "from datasets import load_dataset\n",
    "from langchain_openai import ChatOpenAI\n",
    "from langchain.schema import SystemMessage, HumanMessage\n",
    "\n",
    "ds = load_dataset(\"casehold/casehold\", \"all\")"
   ]
  },
  {
   "cell_type": "code",
   "execution_count": null,
   "id": "23205ca0-4420-4e4b-94c9-a818d97e58f2",
   "metadata": {},
   "outputs": [],
   "source": [
    "def create_prompt(r):\n",
    "    return \"\"\"\n",
    "    Task: Legal Holding Identification\n",
    "    \n",
    "    Context: You are analyzing a legal text to identify the most appropriate legal holding. A legal holding is the court's determination of a matter of law based on the facts of a particular case.\n",
    "    \n",
    "    Input Text: \"{citing_prompt}\"\n",
    "\n",
    "    Question: Based on the legal context above, which of the following holdings best completes the text where the <HOLDING> tag appears? Consider:\n",
    "    - The specific legal issue being discussed\n",
    "    - The logical flow of the legal argument \n",
    "    - The precedential value implied by the context\n",
    "\n",
    "    Options:\n",
    "    A: {holding_0}\n",
    "    B: {holding_1}\n",
    "    C: {holding_2}\n",
    "    D: {holding_3}\n",
    "    E: {holding_4}\n",
    "\n",
    "    Instructions:\n",
    "    1. Analyze the context and legal reasoning in the input text\n",
    "    2. Consider how each option would fit within the legal argument\n",
    "    3. Evaluate which option best maintains the logical flow. Explain your reasoning first, formatted like this <reasoning> reasoning </reasoning>\n",
    "    4. Provide your final answer in the format: ANSWER: X (where X is A, B, C, D, or E)\"\"\".format(\n",
    "        citing_prompt = r['citing_prompt'], holding_0 = r['holding_0'], holding_1 = r['holding_1'], \n",
    "        holding_2 = r['holding_2'], holding_3 = r['holding_3'], holding_4 = r['holding_4'])"
   ]
  },
  {
   "cell_type": "code",
   "execution_count": null,
   "id": "0edc01b6-46a5-4042-9211-67599002349d",
   "metadata": {},
   "outputs": [],
   "source": [
    "test = ds['test'].to_pandas()\n",
    "test['label'] = test['label'].astype(float)\n",
    "test['final_prompt'] = test.apply(create_prompt, axis = 1)"
   ]
  },
  {
   "cell_type": "code",
   "execution_count": null,
   "id": "c2b7a192-78c9-46a4-a0d9-d6b57741eb17",
   "metadata": {},
   "outputs": [],
   "source": [
    "test['response_gpt4o_mini'] = ''\n",
    "test['response_gpt4o'] = ''\n"
   ]
  },
  {
   "cell_type": "code",
   "execution_count": null,
   "id": "fd121d6b-2c14-4887-949e-a9912172a604",
   "metadata": {},
   "outputs": [],
   "source": [
    "# Initialize the chat models\n",
    "chat_4omini = ChatOpenAI(model='gpt-4o-mini-2024-07-18', temperature=0, max_completion_tokens = 5000)\n",
    "chat_4o = ChatOpenAI(model='gpt-4o-2024-11-20', temperature=0, max_completion_tokens=5000)"
   ]
  },
  {
   "cell_type": "code",
   "execution_count": null,
   "id": "ef7d886a-0524-4c74-b917-dc7cabbfee75",
   "metadata": {},
   "outputs": [],
   "source": [
    "for i in range(0, test.shape[0]):\n",
    "    \n",
    "    print(i)\n",
    "    row = test.loc[i]\n",
    "    messages = [\n",
    "        (\"user\", row['final_prompt'])\n",
    "    ]\n",
    "    \n",
    "    b = chat_4omini.invoke(messages)\n",
    "    test.loc[i, 'response_gpt4o_mini'] = b.content\n",
    "\n",
    "    c = chat_4o.invoke(messages)\n",
    "    test.loc[i, 'response_gpt4o'] = c.content"
   ]
  },
  {
   "cell_type": "code",
   "execution_count": null,
   "id": "a13249e3-157c-4a8a-8781-2c02ee0ad369",
   "metadata": {},
   "outputs": [],
   "source": []
  },
  {
   "cell_type": "code",
   "execution_count": null,
   "id": "62358081-dd9e-462a-a300-a34c3ae6a52a",
   "metadata": {},
   "outputs": [],
   "source": []
  },
  {
   "cell_type": "code",
   "execution_count": null,
   "id": "99921c0f-b301-4bb1-9d99-f6902bea2c6a",
   "metadata": {},
   "outputs": [],
   "source": [
    "test.to_csv('casehold_test_openai_labels.csv')"
   ]
  },
  {
   "cell_type": "code",
   "execution_count": null,
   "id": "e2cf68dc-c4d1-4ad5-a7ea-03fe73a47ecf",
   "metadata": {},
   "outputs": [],
   "source": []
  },
  {
   "cell_type": "code",
   "execution_count": null,
   "id": "39cb6919-a106-4cba-8630-93180ca2c0c0",
   "metadata": {},
   "outputs": [],
   "source": []
  },
  {
   "cell_type": "code",
   "execution_count": null,
   "id": "f3fce057-e3ec-4ded-92ac-fa6405448d46",
   "metadata": {},
   "outputs": [],
   "source": []
  },
  {
   "cell_type": "code",
   "execution_count": null,
   "id": "f9fe7ff5-b426-48b3-8944-9286177286a0",
   "metadata": {},
   "outputs": [],
   "source": [
    "print(test.loc[4120]['response_gpt4o_mini'])"
   ]
  },
  {
   "cell_type": "code",
   "execution_count": null,
   "id": "6b170fbf-136b-4dea-8f43-8e1e01923dac",
   "metadata": {},
   "outputs": [],
   "source": []
  }
 ],
 "metadata": {
  "kernelspec": {
   "display_name": "scdb",
   "language": "python",
   "name": "scdb"
  },
  "language_info": {
   "codemirror_mode": {
    "name": "ipython",
    "version": 3
   },
   "file_extension": ".py",
   "mimetype": "text/x-python",
   "name": "python",
   "nbconvert_exporter": "python",
   "pygments_lexer": "ipython3",
   "version": "3.13.1"
  }
 },
 "nbformat": 4,
 "nbformat_minor": 5
}
