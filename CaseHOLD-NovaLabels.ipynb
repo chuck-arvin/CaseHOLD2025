{
 "cells": [
  {
   "cell_type": "markdown",
   "id": "5a42f64e-0164-4028-b522-bf53114cfbf8",
   "metadata": {},
   "source": [
    "### CaseHOLD labeling - Nova models\n",
    "\n",
    "In this notebook, we run a labeling procedure on the test set of the CaseHOLD dataset. The dataset uses a \"citing prompt\", and contains five multiple choice answer options. We ask the LLM to read over the prompt and options, then select the best one.\n",
    "\n",
    "We test three different LLMs from Amazon. We record the responses for each model for further analysis elsewhere."
   ]
  },
  {
   "cell_type": "code",
   "execution_count": 5,
   "id": "58f474bd-1883-4f92-bbbb-0be96c39144a",
   "metadata": {},
   "outputs": [],
   "source": [
    "import pandas as pd\n",
    "from datasets import load_dataset\n",
    "from langchain_aws import ChatBedrockConverse\n",
    "from boto3 import client\n",
    "from botocore.config import Config\n",
    "from bedrock_utils import BedrockBatchProcessor\n",
    "from config import S3_BUCKET, ROLE_ARN\n",
    "\n",
    "config = Config(read_timeout=1000)\n",
    "\n",
    "client = client(service_name='bedrock-runtime',\n",
    "                      config=config, region_name=\"us-east-1\")\n",
    "\n",
    "ds = load_dataset(\"casehold/casehold\", \"all\")"
   ]
  },
  {
   "cell_type": "code",
   "execution_count": 3,
   "id": "23205ca0-4420-4e4b-94c9-a818d97e58f2",
   "metadata": {},
   "outputs": [],
   "source": [
    "def create_prompt(r):\n",
    "    return \"\"\"\n",
    "    Task: Legal Holding Identification\n",
    "    \n",
    "    Context: You are analyzing a legal text to identify the most appropriate legal holding. A legal holding is the court's determination of a matter of law based on the facts of a particular case.\n",
    "    \n",
    "    Input Text: \"{citing_prompt}\"\n",
    "\n",
    "    Question: Based on the legal context above, which of the following holdings best completes the text where the <HOLDING> tag appears? Consider:\n",
    "    - The specific legal issue being discussed\n",
    "    - The logical flow of the legal argument \n",
    "    - The precedential value implied by the context\n",
    "\n",
    "    Options:\n",
    "    A: {holding_0}\n",
    "    B: {holding_1}\n",
    "    C: {holding_2}\n",
    "    D: {holding_3}\n",
    "    E: {holding_4}\n",
    "\n",
    "    Instructions:\n",
    "    1. Analyze the context and legal reasoning in the input text\n",
    "    2. Consider how each option would fit within the legal argument\n",
    "    3. Evaluate which option best maintains the logical flow. Explain your reasoning first, formatted like this <reasoning> reasoning </reasoning>\n",
    "    4. Provide your final answer in the format: ANSWER: X (where X is A, B, C, D, or E)\"\"\".format(\n",
    "        citing_prompt = r['citing_prompt'], holding_0 = r['holding_0'], holding_1 = r['holding_1'], \n",
    "        holding_2 = r['holding_2'], holding_3 = r['holding_3'], holding_4 = r['holding_4'])"
   ]
  },
  {
   "cell_type": "code",
   "execution_count": 4,
   "id": "0edc01b6-46a5-4042-9211-67599002349d",
   "metadata": {},
   "outputs": [],
   "source": [
    "test = ds['test'].to_pandas()\n",
    "test['label'] = test['label'].astype(float)\n",
    "test['final_prompt'] = test.apply(create_prompt, axis = 1)"
   ]
  },
  {
   "cell_type": "code",
   "execution_count": null,
   "id": "bed48349-cb64-4d67-a251-8610bdf0703f",
   "metadata": {},
   "outputs": [],
   "source": []
  },
  {
   "cell_type": "code",
   "execution_count": null,
   "id": "a53ec04e-c104-4b7e-bc2e-84ab0c059ad0",
   "metadata": {},
   "outputs": [],
   "source": []
  },
  {
   "cell_type": "code",
   "execution_count": null,
   "id": "aeb13920-5f05-409b-82ee-3d16107a99b2",
   "metadata": {},
   "outputs": [],
   "source": []
  },
  {
   "cell_type": "code",
   "execution_count": null,
   "id": "62482e71-9b41-4632-99ba-d303ba66668c",
   "metadata": {},
   "outputs": [],
   "source": []
  },
  {
   "cell_type": "code",
   "execution_count": null,
   "id": "441d632b-0657-4acf-84f3-72d4cf2f58e8",
   "metadata": {},
   "outputs": [],
   "source": []
  },
  {
   "cell_type": "code",
   "execution_count": 6,
   "id": "fe387595-d240-4c10-9027-8ad9eafb09f4",
   "metadata": {},
   "outputs": [],
   "source": [
    "batch = BedrockBatchProcessor(bucket = S3_BUCKET, role_arn=ROLE_ARN, model_id='amazon.nova-micro-v1:0', output_path='casehold/outputs/nova_micro', key_prefix = 'casehold/inputs/nova_micro/nova_micro')"
   ]
  },
  {
   "cell_type": "code",
   "execution_count": null,
   "id": "ff20baaa-46af-47d9-b191-2154a1a33345",
   "metadata": {},
   "outputs": [],
   "source": []
  },
  {
   "cell_type": "code",
   "execution_count": null,
   "id": "a308c7fe-6908-44da-8ae7-dd934fcd709a",
   "metadata": {},
   "outputs": [],
   "source": []
  },
  {
   "cell_type": "code",
   "execution_count": null,
   "id": "a7c72058-6137-415c-b14a-cd4e04a480da",
   "metadata": {},
   "outputs": [],
   "source": [
    "batch.process_data(test['"
   ]
  },
  {
   "cell_type": "code",
   "execution_count": null,
   "id": "c2b7a192-78c9-46a4-a0d9-d6b57741eb17",
   "metadata": {},
   "outputs": [],
   "source": [
    "test['response_nova_micro'] = ''\n",
    "test['response_nova_lite'] = ''\n",
    "test['response_nova_pro'] = ''"
   ]
  },
  {
   "cell_type": "code",
   "execution_count": null,
   "id": "84d2bd66-9575-496d-b3ab-9218795b591f",
   "metadata": {},
   "outputs": [],
   "source": [
    "llm_nova_micro = ChatBedrockConverse(model=\"amazon.nova-micro-v1:0\", region_name=\"us-east-1\", temperature = 0, client = client)\n",
    "llm_nova_lite = ChatBedrockConverse(model=\"amazon.nova-lite-v1:0\", region_name=\"us-east-1\", temperature = 0, client = client)\n",
    "llm_nova_pro = ChatBedrockConverse(model=\"amazon.nova-pro-v1:0\", region_name=\"us-east-1\", temperature = 0, client = client)"
   ]
  },
  {
   "cell_type": "code",
   "execution_count": null,
   "id": "ef7d886a-0524-4c74-b917-dc7cabbfee75",
   "metadata": {
    "scrolled": true
   },
   "outputs": [],
   "source": [
    "for i in range(0, test.shape[0]):\n",
    "    \n",
    "    print(i)\n",
    "    row = test.loc[i]\n",
    "    messages = [\n",
    "        (\"user\", row['final_prompt'])\n",
    "    ]\n",
    "\n",
    "    a = llm_nova_micro.invoke(messages)\n",
    "    test.loc[i, 'response_nova_micro'] = a.content\n",
    "    \n",
    "    b = llm_nova_lite.invoke(messages)\n",
    "    test.loc[i, 'response_nova_lite'] = b.content\n",
    "\n",
    "    c = llm_nova_pro.invoke(messages)\n",
    "    test.loc[i, 'response_nova_pro'] = c.content"
   ]
  },
  {
   "cell_type": "code",
   "execution_count": null,
   "id": "99921c0f-b301-4bb1-9d99-f6902bea2c6a",
   "metadata": {},
   "outputs": [],
   "source": [
    "test.to_csv('casehold_test_nova_labels.csv')"
   ]
  },
  {
   "cell_type": "code",
   "execution_count": null,
   "id": "ca8ab6db-68fd-43fe-9cd6-0385d7c0c652",
   "metadata": {},
   "outputs": [],
   "source": []
  }
 ],
 "metadata": {
  "kernelspec": {
   "display_name": "scdb",
   "language": "python",
   "name": "scdb"
  },
  "language_info": {
   "codemirror_mode": {
    "name": "ipython",
    "version": 3
   },
   "file_extension": ".py",
   "mimetype": "text/x-python",
   "name": "python",
   "nbconvert_exporter": "python",
   "pygments_lexer": "ipython3",
   "version": "3.13.1"
  }
 },
 "nbformat": 4,
 "nbformat_minor": 5
}
