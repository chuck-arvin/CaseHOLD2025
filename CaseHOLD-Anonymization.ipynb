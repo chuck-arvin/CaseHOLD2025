{
 "cells": [
  {
   "cell_type": "markdown",
   "id": "d9937b66-e5d7-4ac1-984c-4a591df69f7f",
   "metadata": {},
   "source": [
    "### Citation anonymization test\n",
    "\n",
    "In this notebook, we apply the \"citation anonymization\" test. Modern LLMs have been trained on a large variety of text inputs. This raises the risk that the LLM has seen the input citation in its training process and has ``memorized\" the correct answer.\n",
    "\n",
    "For our anonymization test, we first ask an LLM to rewrite the citation text in a manner which anonymizes case names and citations. This ensures that the prompt has not been seen in training, and cases mentioned are unlikely to actually exist. We then use this modified prompt and use an LLM to identify the right **holding** as before."
   ]
  },
  {
   "cell_type": "code",
   "execution_count": 1,
   "id": "58f474bd-1883-4f92-bbbb-0be96c39144a",
   "metadata": {},
   "outputs": [],
   "source": [
    "import pandas as pd\n",
    "from sklearn.metrics import f1_score\n",
    "import numpy as np\n",
    "import re\n",
    "from Levenshtein import distance as lev\n",
    "from langchain_openai import ChatOpenAI\n",
    "from langchain.schema import SystemMessage, HumanMessage\n",
    "\n",
    "from openai import OpenAI\n",
    "import json\n",
    "from multiprocess import Pool\n"
   ]
  },
  {
   "cell_type": "code",
   "execution_count": null,
   "id": "c7f5844f-edcf-444c-b8dc-d2994257873b",
   "metadata": {},
   "outputs": [],
   "source": [
    "oai_labeled = pd.read_csv('casehold_test_openai_labels.csv')"
   ]
  },
  {
   "cell_type": "code",
   "execution_count": null,
   "id": "f2196f4d-3519-451b-9191-3134b83c3cd8",
   "metadata": {},
   "outputs": [],
   "source": [
    "chat_4omini = ChatOpenAI(model='gpt-4o-mini-2024-07-18', temperature=0, max_completion_tokens = 5000)\n",
    "chat_4o = ChatOpenAI(model='gpt-4o-2024-11-20', temperature=0, max_completion_tokens=5000)"
   ]
  },
  {
   "cell_type": "code",
   "execution_count": null,
   "id": "f5b3cd0e-2160-4e34-9248-3b8ef09db292",
   "metadata": {},
   "outputs": [],
   "source": []
  },
  {
   "cell_type": "markdown",
   "id": "250c676f-9eb9-4449-ba7b-29ebf682dd5f",
   "metadata": {},
   "source": [
    "### Create the anonymized citations"
   ]
  },
  {
   "cell_type": "code",
   "execution_count": null,
   "id": "1da910da-8b1e-4396-92c2-ba558e193f4d",
   "metadata": {},
   "outputs": [],
   "source": [
    "def create_new_citation_prompt(r):\n",
    "    return \"\"\"Input: \"{}\"\n",
    "    Task: Please rewrite the input text while:\n",
    "    1. Replace all case names CONSISTENTLY:\n",
    "       - Use different but plausible names\n",
    "       - If a name appears multiple times, use the same replacement each time\n",
    "       - Example: If \"Smith\" becomes \"Wilson\", all instances of \"Smith\" should become \"Wilson\"\n",
    "    \n",
    "    2. For each citation:\n",
    "       - Change all numbers (years, page numbers, etc.)\n",
    "       - Change the jurisdiction (e.g., F.3d → P.2d or N.Y.S.2d → Cal.App.)\n",
    "       - Keep citations in a valid legal format\n",
    "    \n",
    "    3. Preserve exactly:\n",
    "       - The <HOLDING> tag location\n",
    "       - All punctuation\n",
    "       - All legal reasoning and discussions\n",
    "       - The basic sentence structure\n",
    "    \n",
    "    Change ALL identifying information consistently while keeping the legal meaning identical. Surround your response with tags, <output> text </output>\n",
    "    Output: \"\"\".format(r['citing_prompt'])"
   ]
  },
  {
   "cell_type": "code",
   "execution_count": null,
   "id": "02bafeab-6c4d-4210-9c48-17080c51b59f",
   "metadata": {},
   "outputs": [],
   "source": [
    "oai_labeled['initial_anonymization_prompt'] = oai_labeled.apply(create_new_citation_prompt, axis = 1)\n",
    "oai_labeled['anonymized_citing_prompt'] = ''\n",
    "print(oai_labeled.loc[0]['initial_anonymization_prompt'])"
   ]
  },
  {
   "cell_type": "code",
   "execution_count": null,
   "id": "c1bc0b49-b8e9-4cef-8d5f-9103ac62dede",
   "metadata": {},
   "outputs": [],
   "source": [
    "chat_4omini.invoke([(\"user\", oai_labeled.loc[0]['initial_anonymization_prompt'])]).content"
   ]
  },
  {
   "cell_type": "code",
   "execution_count": null,
   "id": "ed0b5f10-b13c-4dd7-8883-114a379db447",
   "metadata": {},
   "outputs": [],
   "source": []
  },
  {
   "cell_type": "code",
   "execution_count": null,
   "id": "ec01c599-76db-45aa-bfb2-ace9ba99dff7",
   "metadata": {},
   "outputs": [],
   "source": [
    "def get_anonymized_prompt(input):\n",
    "    messages = [\n",
    "        (\"user\", input)\n",
    "    ]\n",
    "    \n",
    "    b = chat_4omini.invoke(messages)\n",
    "    return b.content"
   ]
  },
  {
   "cell_type": "code",
   "execution_count": null,
   "id": "c68172c5-2710-40fb-ae07-9f98b9427ad2",
   "metadata": {},
   "outputs": [],
   "source": [
    "with Pool(processes = 6) as pool:\n",
    "    anonymized_prompts = pool.map(func = get_anonymized_prompt, iterable = oai_labeled['initial_anonymization_prompt'])"
   ]
  },
  {
   "cell_type": "code",
   "execution_count": null,
   "id": "5532c75c-337c-4a43-b7f6-14d50614bb55",
   "metadata": {},
   "outputs": [],
   "source": [
    "oai_labeled['anonymized_prompt'] = anonymized_prompts"
   ]
  },
  {
   "cell_type": "code",
   "execution_count": null,
   "id": "8cc028ad-e7b5-43ea-bf72-c9f175962131",
   "metadata": {},
   "outputs": [],
   "source": [
    "oai_labeled.loc[453]['anonymized_prompt']"
   ]
  },
  {
   "cell_type": "code",
   "execution_count": null,
   "id": "cf9bdd2a-d576-45c1-b7e0-99d256dc3479",
   "metadata": {},
   "outputs": [],
   "source": [
    "oai_labeled.loc[453]['citing_prompt']"
   ]
  },
  {
   "cell_type": "code",
   "execution_count": null,
   "id": "d0560501-de05-4040-a390-fe4453e34c6f",
   "metadata": {},
   "outputs": [],
   "source": []
  },
  {
   "cell_type": "code",
   "execution_count": null,
   "id": "52a5edd5-5ae5-47e0-8d20-a28a558ff08c",
   "metadata": {},
   "outputs": [],
   "source": [
    "def create_anonymized_prompt(r):\n",
    "    pattern = r'<output>(.*)</output>'\n",
    "    match = re.search(pattern, r['anonymized_prompt'], re.DOTALL)\n",
    "    cite = match.group(1) if match else ''\n",
    "    return \"\"\"\n",
    "    Task: Legal Holding Identification\n",
    "    \n",
    "    Context: You are analyzing a legal text to identify the most appropriate legal holding. A legal holding is the court's determination of a matter of law based on the facts of a particular case.\n",
    "    \n",
    "    Input Text: \"{anonymized_prompt}\"\n",
    "\n",
    "    Question: Based on the legal context above, which of the following holdings best completes the text where the <HOLDING> tag appears? Consider:\n",
    "    - The specific legal issue being discussed\n",
    "    - The logical flow of the legal argument \n",
    "    - The precedential value implied by the context\n",
    "\n",
    "    Options:\n",
    "    A: {holding_0}\n",
    "    B: {holding_1}\n",
    "    C: {holding_2}\n",
    "    D: {holding_3}\n",
    "    E: {holding_4}\n",
    "\n",
    "    Instructions:\n",
    "    1. Analyze the context and legal reasoning in the input text\n",
    "    2. Consider how each option would fit within the legal argument\n",
    "    3. Evaluate which option best maintains the logical flow. Explain your reasoning first, formatted like this <reasoning> reasoning </reasoning>\n",
    "    4. Provide your final answer in the format: ANSWER: X (where X is A, B, C, D, or E)\"\"\".format(\n",
    "        anonymized_prompt = cite, holding_0 = r['holding_0'][:1000], holding_1 = r['holding_1'][:1000], \n",
    "        holding_2 = r['holding_2'][:1000], holding_3 = r['holding_3'][:1000], holding_4 = r['holding_4'][:1000])\n",
    "\n",
    "oai_labeled['anonymized_final_prompt'] = oai_labeled.apply(create_anonymized_prompt, axis = 1)"
   ]
  },
  {
   "cell_type": "code",
   "execution_count": null,
   "id": "9a18996c-0070-4593-ad75-e7634696e912",
   "metadata": {},
   "outputs": [],
   "source": [
    "print(oai_labeled['citing_prompt'].loc[4])"
   ]
  },
  {
   "cell_type": "code",
   "execution_count": null,
   "id": "1e77e706-44a5-430e-83cb-a2879cd95938",
   "metadata": {},
   "outputs": [],
   "source": [
    "print(oai_labeled['anonymized_final_prompt'].loc[4])"
   ]
  },
  {
   "cell_type": "code",
   "execution_count": null,
   "id": "dd60c50f-68ce-4702-9d71-c4bf2b3fc441",
   "metadata": {},
   "outputs": [],
   "source": [
    "for i in range(0, oai_labeled.shape[0]):\n",
    "\n",
    "    print(i)\n",
    "    row = oai_labeled.loc[i]\n",
    "    messages = [(\"user\", row['anonymized_final_prompt'])]\n",
    "        \n",
    "    for t in range(5):\n",
    "        try:\n",
    "            c = chat_4o.invoke(messages)\n",
    "            oai_labeled.loc[i, 'response_gpt4o_anonymized'] = c.content\n",
    "            break\n",
    "        except:\n",
    "            print('failed')\n",
    "            pass"
   ]
  },
  {
   "cell_type": "code",
   "execution_count": null,
   "id": "06dc0742-f76a-4472-a88f-a28f1c95760a",
   "metadata": {},
   "outputs": [],
   "source": []
  },
  {
   "cell_type": "markdown",
   "id": "0774df72-d043-44bd-94b7-34eb057d4212",
   "metadata": {},
   "source": [
    "### Analyze the anonymized results"
   ]
  },
  {
   "cell_type": "code",
   "execution_count": 2,
   "id": "d946365a-fc82-48b6-a0e3-81252daa0072",
   "metadata": {},
   "outputs": [],
   "source": [
    "oai_labeled = pd.read_csv('casehold_test_with_anonymization_oai.csv')"
   ]
  },
  {
   "cell_type": "code",
   "execution_count": 3,
   "id": "e28d2741-0d7b-4215-8e67-2f94944b77a4",
   "metadata": {},
   "outputs": [
    {
     "name": "stdout",
     "output_type": "stream",
     "text": [
      "<reasoning> The input text discusses the concept of \"consideration\" in the context of legal cases involving promotional activities, such as sweepstakes or bingo games. Specifically, the text contrasts cases where consideration was found to exist with cases where it was not. The focus is on whether requiring a person to take certain actions, such as visiting a location, constitutes sufficient legal consideration. The text references cases like *State v. Socony Mobil Oil Co.* and *Lucky Calendar Co. v. Cohen*, which deal with promotional schemes and the legal implications of requiring participants to engage in specific actions to participate. \n",
      "\n",
      "Given this context, the most relevant holding would address whether the act of visiting a store or location constitutes consideration. Option C, which states \"holding that consideration exists where a customer is burdened by having to visit the store where the coupons are being offered,\" directly aligns with the legal issue being discussed. It fits the logical flow of the argument and provides a clear example of a holding that supports the idea that requiring physical presence can constitute consideration.\n",
      "\n",
      "The other options are unrelated to the issue of consideration in promotional activities:\n",
      "- Option A involves vicarious liability for wrongful death, which is unrelated to the topic of consideration.\n",
      "- Option B involves foreseeability in the context of alcohol sales, which is also irrelevant.\n",
      "- Option D involves negligence related to a store customer, which does not pertain to the issue of consideration.\n",
      "- Option E involves a store's duty to protect customers from rowdy children, which is similarly unrelated.\n",
      "\n",
      "Thus, Option C is the only holding that logically fits the context and legal reasoning presented in the input text. </reasoning>\n",
      "\n",
      "ANSWER: C\n"
     ]
    }
   ],
   "source": [
    "print(oai_labeled.loc[0]['response_gpt4o'])"
   ]
  },
  {
   "cell_type": "code",
   "execution_count": 4,
   "id": "1df77bc7-f2f0-4641-9d1c-11b06ba7b2f0",
   "metadata": {},
   "outputs": [
    {
     "name": "stdout",
     "output_type": "stream",
     "text": [
      "<reasoning> The input text discusses the concept of \"consideration\" in the context of promotional activities, specifically whether requiring a person to visit a location to participate in a sweepstakes constitutes legal consideration. The text references cases that analyze whether certain actions or benefits meet the threshold for consideration, such as paying for bingo cards or requiring physical presence at a location. The logical flow of the argument centers on the legal issue of what constitutes consideration in promotional or sweepstakes scenarios. \n",
      "\n",
      "Option A, which involves vicarious liability for wrongful death, is unrelated to the issue of consideration and does not fit the context.  \n",
      "Option B, which involves foreseeability in the context of alcohol sales and murder, is also unrelated to the issue of consideration.  \n",
      "Option C directly addresses the issue of consideration, specifically in the context of requiring a customer to visit a store, which aligns with the discussion in the input text.  \n",
      "Option D, which involves negligence and a customer’s failure to perceive a hazard, is unrelated to the issue of consideration.  \n",
      "Option E, which involves a grocery store’s duty to protect customers from rowdy children, is also unrelated to the issue of consideration.  \n",
      "\n",
      "Given the focus on consideration and the specific mention of requiring a person to visit a location as a potential burden, Option C is the most appropriate holding to complete the text and maintain the logical flow of the argument. </reasoning>\n",
      "\n",
      "ANSWER: C\n"
     ]
    }
   ],
   "source": [
    "print(oai_labeled.loc[0]['response_gpt4o_anonymized'])"
   ]
  },
  {
   "cell_type": "markdown",
   "id": "d64c95b0-70f0-430c-aa29-6269a5611be1",
   "metadata": {},
   "source": [
    "### Examples of anonymized prompts"
   ]
  },
  {
   "cell_type": "code",
   "execution_count": 5,
   "id": "034f547b-4643-4c9f-8a34-0a7c578d579d",
   "metadata": {},
   "outputs": [
    {
     "name": "stdout",
     "output_type": "stream",
     "text": [
      "***\n",
      "she argues that that affidavit demonstrates that Mandeville’s testimony regarding DMV complaints about Bucci is not worthy of belief. It is important to note, however, that San Bento said in his affidavit that he did not recall making any complaints about Bucci and that he found her to be “professional, efficient and competent.” But Mandeville never said that it had been San Bento who had made a complaint to her about Bucci. Indeed, other employees from the DMV, or employees from motor-vehicle departments from other states, may well have complained about Bucci’s performance. When a plaintiff attempts to counter a claim by an employer that it fired an employee for poor performance, it is simply not sufficient for a plaintiff to present evidence that her performance wa (7th Cir.2007) (<HOLDING>). Further, the policy states that there are\n",
      "<output> \"she argues that that affidavit demonstrates that Thompson’s testimony regarding DMV complaints about Carter is not worthy of belief. It is important to note, however, that Johnson said in his affidavit that he did not recall making any complaints about Carter and that he found her to be “professional, efficient and competent.” But Thompson never said that it had been Johnson who had made a complaint to her about Carter. Indeed, other employees from the DMV, or employees from motor-vehicle departments from other states, may well have complained about Carter’s performance. When a plaintiff attempts to counter a claim by an employer that it fired an employee for poor performance, it is simply not sufficient for a plaintiff to present evidence that her performance wa (9th Cir.2015) (<HOLDING>). Further, the policy states that there are\" </output>\n",
      "***\n",
      "profit would have been paid to the bank by its normal customers. The utilization of the normal bank charges in valuation of the loss was a reasonable approach by the district court. Sabían also objects to the inclusion in the calculation of $4,000, which reflect the value of a meeting of bank managers with the FBI, $1,000 for a staff meeting to discuss the incident, and $350 for the handling of crank calls during the repair time. These expenses, while probably foreseeable, were not required to repair the damage. Thus, they were consequential losses. There is some uncertainty in the ease law as to whether and under what circumstances consequential damages may be considered in valuing loss under the Sentencing Guidelines. Compare United States v. King, 915 F.2d 269, 272 (6th Cir.1990) (<HOLDING>) with United States v. Wilson, 993 F.2d 214,\n",
      "<output> \"profit would have been paid to the bank by its normal customers. The utilization of the normal bank charges in valuation of the loss was a reasonable approach by the district court. Johnson also objects to the inclusion in the calculation of $4,000, which reflect the value of a meeting of bank managers with the FBI, $1,000 for a staff meeting to discuss the incident, and $350 for the handling of crank calls during the repair time. These expenses, while probably foreseeable, were not required to repair the damage. Thus, they were consequential losses. There is some uncertainty in the ease law as to whether and under what circumstances consequential damages may be considered in valuing loss under the Sentencing Guidelines. Compare United States v. Thompson, 825 F.3d 378, 482 (7th Cir.1995) (<HOLDING>) with United States v. Carter, 876 F.3d 321,\" </output>\n",
      "***\n",
      "and calculations” (citation and quotation marks omitted)). Moreover, Plaintiffs have sufficiently alleged that the Agreements were not otherwise justified by “avoided litigation costs or fair value for services.” Actavis, 133 S.Ct. at 2236. ‘ In light of the standard for dismissal on a 12(b)(6) motion, the Court concludes that Plaintiffs have met their burden and have adequately alleged that the sum total of the Watson Agreement constituted a large and unjustified payment, as did the Lupin Agreement (challenged by the EPPs and Retailers only). Plaintiffs have satisfied their burden to allege facts that, with the benefit of fact and expert discovery, have the reasonable expectation of proving their prima facie case under the rule of reason. See Twombly, 550 U.S. at 556, 127 S.Ct. 1955 (<HOLDING>). C. Fraud on the PTO, Sham Litigation, and\n",
      "<output> \"and calculations” (citation and quotation marks omitted)). Moreover, Plaintiffs have sufficiently alleged that the Agreements were not otherwise justified by “avoided litigation costs or fair value for services.” Johnson, 145 P.2d at 3346. ‘ In light of the standard for dismissal on a 12(b)(6) motion, the Court concludes that Plaintiffs have met their burden and have adequately alleged that the sum total of the Thompson Agreement constituted a large and unjustified payment, as did the Carter Agreement (challenged by the EPPs and Retailers only). Plaintiffs have satisfied their burden to allege facts that, with the benefit of fact and expert discovery, have the reasonable expectation of proving their prima facie case under the rule of reason. See Davis, 600 U.S. at 678, 135 P.2d 2055 (<HOLDING>). C. Fraud on the PTO, Sham Litigation, and\" </output>\n",
      "***\n",
      "545 (1958). The “tied” product is typically from a different but interdependent market (i.e. printer and printer cartridges). Such tying agreements can constitute an injury to competition when “the seller has market power over the tying product,” and the seller “can leverage this market power through tying arrangements to exclude other sellers of the tied product.” Cascade Health Solutions v. PeaceHealth, 515 F.3d 883, 912 (9th Cir.2008). “Bundling” is defined as “the practice of offering, for a single price, two or more goods or services that could be sold separately.” Id. at 884. Bundling can constitute an injury to competition when a bundler is able to use discounting, for example, to “exclude rivals who do not sell as great a number of product lines.” Id. at 897; see id. at 910(<HOLDING>). III We consider plaintiffs’ complaint in\n",
      "<output> \"678 (1972). The “tied” product is typically from a different but interdependent market (i.e. printer and printer cartridges). Such tying agreements can constitute an injury to competition when “the seller has market power over the tying product,” and the seller “can leverage this market power through tying arrangements to exclude other sellers of the tied product.” Green Valley Health Solutions v. Riverbend Health, 623 P.2d 456, 789 (10th Cir.2010). “Bundling” is defined as “the practice of offering, for a single price, two or more goods or services that could be sold separately.” Id. at 457. Bundling can constitute an injury to competition when a bundler is able to use discounting, for example, to “exclude rivals who do not sell as great a number of product lines.” Id. at 467; see id. at 480(<HOLDING>). III We consider plaintiffs’ complaint in\" </output>\n"
     ]
    }
   ],
   "source": [
    "for i in [7, 5270, 816, 5308]:\n",
    "    print('***')\n",
    "    print(oai_labeled.loc[i]['citing_prompt'])\n",
    "    print(oai_labeled.loc[i]['anonymized_prompt'])"
   ]
  },
  {
   "cell_type": "code",
   "execution_count": null,
   "id": "b6094c03-c774-446a-a961-3f7483084154",
   "metadata": {},
   "outputs": [],
   "source": []
  },
  {
   "cell_type": "markdown",
   "id": "e2effa61-3914-4d3d-8fe2-21a138441d6c",
   "metadata": {},
   "source": [
    "### Levenshtein distance"
   ]
  },
  {
   "cell_type": "code",
   "execution_count": 6,
   "id": "fcf31e18-bbac-42a3-9e8b-b0074c2a38e3",
   "metadata": {},
   "outputs": [],
   "source": [
    "oai_labeled['levenshtein_distance'] = oai_labeled.apply(lambda x: lev(x['citing_prompt'], x['anonymized_prompt']), axis = 1)"
   ]
  },
  {
   "cell_type": "code",
   "execution_count": 7,
   "id": "c3f63c99-ff48-4f6e-863a-4ee83dd43795",
   "metadata": {},
   "outputs": [
    {
     "data": {
      "text/plain": [
       "np.float64(843.0598419269853)"
      ]
     },
     "execution_count": 7,
     "metadata": {},
     "output_type": "execute_result"
    }
   ],
   "source": [
    "oai_labeled['citing_prompt'].apply(lambda x: len(x)).mean()"
   ]
  },
  {
   "cell_type": "code",
   "execution_count": 8,
   "id": "e01dfc45-0963-4930-a72d-f47c215e38d4",
   "metadata": {},
   "outputs": [
    {
     "data": {
      "text/plain": [
       "count    5314.000000\n",
       "mean       96.213963\n",
       "std        38.270417\n",
       "min        20.000000\n",
       "25%        69.000000\n",
       "50%        91.000000\n",
       "75%       116.000000\n",
       "max       616.000000\n",
       "Name: levenshtein_distance, dtype: float64"
      ]
     },
     "execution_count": 8,
     "metadata": {},
     "output_type": "execute_result"
    }
   ],
   "source": [
    "oai_labeled['levenshtein_distance'].describe()"
   ]
  },
  {
   "cell_type": "code",
   "execution_count": 9,
   "id": "2b6b1ec9-74d2-4372-a383-11be3e3fa8bd",
   "metadata": {},
   "outputs": [
    {
     "name": "stdout",
     "output_type": "stream",
     "text": [
      "defects,” specifically, defects in establishing citizenship for the purpose of establishing diversity jurisdiction. Id. at 223. See also Harmon v. OKI Sys., 115 F.3d 477, 479 (7th Cir.1997) (citing with approval the reasoning in In re Allstate that “a defendant’s failure to allege citizenship as opposed to residency ... constituted a procedural defect”). We agree with the Fifth Circuit’s interpretation of § 1447(c) and construction of a party’s failure to establish citizenship in its notice of removal as a procedural defect. “[Wjhere subject matter jurisdiction exists and any procedural shortcomings may be cured by resort to § 1653, we can surmise no valid reason for the court to decline the exercise of jurisdiction.” In re Allstate, 8 F.3d at 223. See also Ellenburg, 519 F.3d at 198 (<HOLDING>). Section 1653 provides that “[d]efec-tive\n",
      "<output> \"defects,” specifically, defects in establishing citizenship for the purpose of establishing diversity jurisdiction. Id. at 456. See also Taylor v. XYZ Corp., 123 P.2d 789, 791 (9th Cir.2001) (citing with approval the reasoning in In re Nationwide that “a defendant’s failure to allege citizenship as opposed to residency ... constituted a procedural defect”). We agree with the Sixth Circuit’s interpretation of § 1447(c) and construction of a party’s failure to establish citizenship in its notice of removal as a procedural defect. “[W]here subject matter jurisdiction exists and any procedural shortcomings may be cured by resort to § 1653, we can surmise no valid reason for the court to decline the exercise of jurisdiction.” In re Nationwide, 9 P.3d at 456. See also Johnson, 620 P.2d at 345 (<HOLDING>). Section 1653 provides that “[d]efec-tive\" </output>\n"
     ]
    }
   ],
   "source": [
    "print(oai_labeled.query('levenshtein_distance == 91').iloc[0]['citing_prompt'])\n",
    "\n",
    "print(oai_labeled.query('levenshtein_distance == 91').iloc[0]['anonymized_prompt'])"
   ]
  },
  {
   "cell_type": "code",
   "execution_count": null,
   "id": "54b68112-8f85-49bd-800b-3925739f6f53",
   "metadata": {},
   "outputs": [],
   "source": []
  },
  {
   "cell_type": "code",
   "execution_count": null,
   "id": "bde1a860-1bfc-4293-bbfa-aca0ed77c04c",
   "metadata": {},
   "outputs": [],
   "source": []
  },
  {
   "cell_type": "markdown",
   "id": "bc056fba-8c13-49b4-a331-20b1a5787447",
   "metadata": {},
   "source": [
    "### Answer analysis"
   ]
  },
  {
   "cell_type": "code",
   "execution_count": 10,
   "id": "d071f144-2761-4d11-895e-4dd46da72ed7",
   "metadata": {},
   "outputs": [],
   "source": [
    "def extract_answers(text):\n",
    "    if pd.isnull(text):\n",
    "        return -1\n",
    "    # Look for text surrounded by single backticks\n",
    "    pattern = r'\\bANSWER:\\s*([A-E])'\n",
    "    match = re.search(pattern, text)\n",
    "    letter = match.group(1) if match else ''\n",
    "\n",
    "    if letter:\n",
    "        # Return the content if found, None otherwise\n",
    "        return ord(letter) - ord('A')\n",
    "    else: \n",
    "        return -1"
   ]
  },
  {
   "cell_type": "code",
   "execution_count": 11,
   "id": "b5b4bb2d-04c1-42bb-8f1b-3d7c6c8daeae",
   "metadata": {},
   "outputs": [],
   "source": [
    "oai_labeled['answer_gpt4o'] = oai_labeled['response_gpt4o'].apply(extract_answers)\n",
    "oai_labeled['answer_gpt4o_anonymized'] = oai_labeled['response_gpt4o_anonymized'].apply(extract_answers)"
   ]
  },
  {
   "cell_type": "code",
   "execution_count": null,
   "id": "ca19fff6-ad6d-447b-889d-7ccff572b358",
   "metadata": {},
   "outputs": [],
   "source": []
  },
  {
   "cell_type": "code",
   "execution_count": 12,
   "id": "7ed9d6ba-64f3-4a77-9914-ba9cd1f5cd31",
   "metadata": {},
   "outputs": [],
   "source": [
    "#Fill in random guesses elsewhere\n",
    "oai_labeled.loc[oai_labeled['answer_gpt4o'] == -1, 'answer_gpt4o'] = np.random.choice(5, size = oai_labeled.query('answer_gpt4o == -1').shape[0])\n",
    "oai_labeled.loc[oai_labeled['answer_gpt4o_anonymized'] == -1, 'answer_gpt4o_anonymized'] = np.random.choice(5, size = oai_labeled.query('answer_gpt4o_anonymized == -1').shape[0])"
   ]
  },
  {
   "cell_type": "code",
   "execution_count": 13,
   "id": "89221a2a-331a-4abd-bdbb-475310a45618",
   "metadata": {},
   "outputs": [
    {
     "data": {
      "text/plain": [
       "(0.7439582920642518, 0.7276315728579614)"
      ]
     },
     "execution_count": 13,
     "metadata": {},
     "output_type": "execute_result"
    }
   ],
   "source": [
    "(f1_score(oai_labeled['label'], oai_labeled['answer_gpt4o'], average='macro'), \n",
    "f1_score(oai_labeled['label'], oai_labeled['answer_gpt4o_anonymized'], average='macro'))\n"
   ]
  },
  {
   "cell_type": "code",
   "execution_count": 19,
   "id": "75d134df-ce24-4802-8f44-ae5f16e61122",
   "metadata": {},
   "outputs": [
    {
     "data": {
      "text/plain": [
       "np.float64(0.8759879563417388)"
      ]
     },
     "execution_count": 19,
     "metadata": {},
     "output_type": "execute_result"
    }
   ],
   "source": [
    "(oai_labeled['answer_gpt4o'] == oai_labeled['answer_gpt4o_anonymized']).mean()"
   ]
  },
  {
   "cell_type": "code",
   "execution_count": 14,
   "id": "715b2db3-717b-4930-8fa9-72c8d45376ca",
   "metadata": {},
   "outputs": [
    {
     "name": "stdout",
     "output_type": "stream",
     "text": [
      "to a wholesaler/distributor who then packs them with goods; 4. sold in an environment of sale that features the goods packed in the jar and not the jar itself; 5. used to commercially convey foodstuffs, beverages, oils, meat extracts, etc.; 6. capable of being used in the hot packing process; and 7. recognized in the trade as used primarily to pack and convey goods to a consumer who then discards the container after this initial use. T.D. 96-7, 30 Customs Bulletin at 32-33, 61 Fed. Reg. at 224. The Government urges that HQRL 962378 “complied with the standards set forth” in T.D. 96-7, and is therefore entitled to deference under Skidmore v. Swift & Co., 323 U.S. 134 (1944) (Def.’s Post Trial Mem. at 10); see Rocknel Fastener, Inc. v. United States, 267 F.3d 1354, 1357 (Fed. Cir. 2001) (<HOLDING>). In Rocknel, the Court of Appeals for the\n"
     ]
    }
   ],
   "source": [
    "print(oai_labeled.loc[100]['citing_prompt'])"
   ]
  },
  {
   "cell_type": "code",
   "execution_count": 15,
   "id": "efbaa5bd-3342-4fd8-b7b7-48fe0d222390",
   "metadata": {},
   "outputs": [
    {
     "name": "stdout",
     "output_type": "stream",
     "text": [
      "<reasoning>  \n",
      "The input text discusses the application of deference to an agency's interpretation of a legal standard, specifically referencing Skidmore v. Swift & Co. and the standards set forth in T.D. 96-7. The Government argues that the agency's decision complies with these standards and is entitled to Skidmore deference. Skidmore deference is granted when an agency's interpretation is persuasive and based on thorough reasoning and analysis. The text also references Rocknel Fastener, Inc. v. United States, which likely involves a similar issue of deference to an agency's decision.\n",
      "\n",
      "Given this context, the most appropriate holding would address the application of Skidmore deference in a situation where the agency's decision demonstrates thorough analysis and reasoning. This aligns with the logical flow of the argument, which emphasizes the persuasiveness and consistency of the agency's position.\n",
      "\n",
      "Option A discusses Skidmore respect but focuses on the agency's manual and practice, which is not directly relevant to the context provided.  \n",
      "Option B directly addresses Skidmore deference and emphasizes the thorough analysis of a customs classification decision, which fits the context of the input text.  \n",
      "Option C discusses deference to a court's conclusion about transfer, which is unrelated to the issue of agency deference.  \n",
      "Option D discusses the inappropriateness of deference when a statute is administered by multiple agencies, which is not relevant to the context.  \n",
      "Option E discusses legislative findings and constitutional analysis, which is also unrelated to the issue of Skidmore deference.  \n",
      "\n",
      "Therefore, Option B is the most logical and appropriate choice, as it directly addresses the issue of Skidmore deference in the context of a customs classification decision.  \n",
      "</reasoning>  \n",
      "\n",
      "ANSWER: B\n"
     ]
    }
   ],
   "source": [
    "print(oai_labeled.loc[100]['response_gpt4o'])"
   ]
  },
  {
   "cell_type": "code",
   "execution_count": 16,
   "id": "8e7f0c66-9af0-479b-8c15-c5c5f326097d",
   "metadata": {},
   "outputs": [
    {
     "name": "stdout",
     "output_type": "stream",
     "text": [
      "<output> \"to a wholesaler/distributor who then packs them with goods; 4. sold in an environment of sale that features the goods packed in the jar and not the jar itself; 5. used to commercially convey foodstuffs, beverages, oils, meat extracts, etc.; 6. capable of being used in the hot packing process; and 7. recognized in the trade as used primarily to pack and convey goods to a consumer who then discards the container after this initial use. T.D. 97-8, 31 Customs Bulletin at 33-34, 62 Fed. Reg. at 225. The Government urges that HQRL 973479 “complied with the standards set forth” in T.D. 97-8, and is therefore entitled to deference under Johnson v. Swift & Co., 324 U.S. 135 (1945) (Def.’s Post Trial Mem. at 11); see Thompson Fastener, Inc. v. United States, 268 P.2d 1355, 1358 (Cal.App. 2002) (<HOLDING>). In Thompson, the Court of Appeals for the\" </output>\n"
     ]
    }
   ],
   "source": [
    "print(oai_labeled.loc[100]['anonymized_prompt'])"
   ]
  },
  {
   "cell_type": "code",
   "execution_count": 17,
   "id": "97b4f030-6f15-40eb-87e5-ce3b5508349e",
   "metadata": {},
   "outputs": [
    {
     "name": "stdout",
     "output_type": "stream",
     "text": [
      "<reasoning> The input text discusses the application of deference to an agency's interpretation of a legal standard, specifically referencing HQRL 973479 and its compliance with the standards set forth in T.D. 97-8. The Government argues that this compliance entitles the agency's decision to deference, citing Johnson v. Swift & Co. and other precedents. The context suggests that the legal issue revolves around the level of deference courts should give to agency decisions, particularly in the context of customs classifications. \n",
      "\n",
      "Option A discusses Chevron and Skidmore deference but focuses on a director's litigation position, which is not directly relevant to the customs classification issue in the input text. \n",
      "\n",
      "Option B directly addresses Skidmore deference in the context of customs classification decisions, emphasizing thorough analysis, which aligns with the discussion in the input text about the agency's compliance with standards and the Government's argument for deference.\n",
      "\n",
      "Option C refers to deference in the context of a court's conclusion about a transfer, which is unrelated to the customs classification issue in the input text.\n",
      "\n",
      "Option D discusses the inappropriateness of deference when a statute is administered by more than one agency, which is not relevant to the single-agency customs classification issue in the input text.\n",
      "\n",
      "Option E refers to legislative findings and constitutional analysis, which is unrelated to the issue of agency deference in the input text.\n",
      "\n",
      "Given the context, Option B is the most appropriate because it directly addresses Skidmore deference in the context of customs classification decisions, which is the central issue in the input text. </reasoning>\n",
      "\n",
      "ANSWER: B\n"
     ]
    }
   ],
   "source": [
    "print(oai_labeled.loc[100]['response_gpt4o_anonymized'])"
   ]
  },
  {
   "cell_type": "code",
   "execution_count": null,
   "id": "034055a0-b517-45e7-8d34-8dbea22b2a89",
   "metadata": {},
   "outputs": [],
   "source": []
  }
 ],
 "metadata": {
  "kernelspec": {
   "display_name": "scdb",
   "language": "python",
   "name": "scdb"
  },
  "language_info": {
   "codemirror_mode": {
    "name": "ipython",
    "version": 3
   },
   "file_extension": ".py",
   "mimetype": "text/x-python",
   "name": "python",
   "nbconvert_exporter": "python",
   "pygments_lexer": "ipython3",
   "version": "3.13.1"
  }
 },
 "nbformat": 4,
 "nbformat_minor": 5
}
